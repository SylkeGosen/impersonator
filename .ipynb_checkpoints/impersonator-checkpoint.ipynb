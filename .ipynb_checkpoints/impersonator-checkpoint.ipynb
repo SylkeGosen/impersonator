{
 "cells": [
  {
   "cell_type": "markdown",
   "metadata": {
    "colab_type": "text",
    "id": "view-in-github"
   },
   "source": [
    "<a href=\"https://colab.research.google.com/github/ak9250/impersonator/blob/master/impersonator.ipynb\" target=\"_parent\"><img src=\"https://colab.research.google.com/assets/colab-badge.svg\" alt=\"Open In Colab\"/></a>"
   ]
  },
  {
   "cell_type": "code",
   "execution_count": 0,
   "metadata": {
    "colab": {},
    "colab_type": "code",
    "id": "8VEE2lbHAaU6"
   },
   "outputs": [],
   "source": [
    "!git clone https://github.com/svip-lab/impersonator.git"
   ]
  },
  {
   "cell_type": "code",
   "execution_count": 0,
   "metadata": {
    "colab": {},
    "colab_type": "code",
    "id": "iqJFV169A8yU"
   },
   "outputs": [],
   "source": [
    "cd impersonator/"
   ]
  },
  {
   "cell_type": "code",
   "execution_count": 0,
   "metadata": {
    "colab": {},
    "colab_type": "code",
    "id": "Q5bzxmCIBEZR"
   },
   "outputs": [],
   "source": [
    "!pip install -r requirements.txt"
   ]
  },
  {
   "cell_type": "code",
   "execution_count": 0,
   "metadata": {
    "colab": {},
    "colab_type": "code",
    "id": "0hITOMy0BIEg"
   },
   "outputs": [],
   "source": [
    "cd thirdparty/neural_renderer"
   ]
  },
  {
   "cell_type": "code",
   "execution_count": 0,
   "metadata": {
    "colab": {},
    "colab_type": "code",
    "id": "v7YtWs_BB_oj"
   },
   "outputs": [],
   "source": [
    "!python setup.py install"
   ]
  },
  {
   "cell_type": "code",
   "execution_count": 0,
   "metadata": {
    "colab": {},
    "colab_type": "code",
    "id": "L2Zk_k5zQBAz"
   },
   "outputs": [],
   "source": [
    "cd ../.."
   ]
  },
  {
   "cell_type": "code",
   "execution_count": 0,
   "metadata": {
    "colab": {},
    "colab_type": "code",
    "id": "BsrST13RCBrJ"
   },
   "outputs": [],
   "source": [
    "!wget -O assets/pretrains.zip https://1drv.ws/u/s!AjjUqiJZsj8whLNw4QyntCMsDKQjSg?e=L77Elv"
   ]
  },
  {
   "cell_type": "code",
   "execution_count": 0,
   "metadata": {
    "colab": {},
    "colab_type": "code",
    "id": "QY66SAXqvgTC"
   },
   "outputs": [],
   "source": [
    "cd assets"
   ]
  },
  {
   "cell_type": "code",
   "execution_count": 0,
   "metadata": {
    "colab": {},
    "colab_type": "code",
    "id": "VfInCx-lviCl"
   },
   "outputs": [],
   "source": [
    "!unzip pretrains.zip"
   ]
  },
  {
   "cell_type": "code",
   "execution_count": 0,
   "metadata": {
    "colab": {},
    "colab_type": "code",
    "id": "4qd5Dx7Nvoo8"
   },
   "outputs": [],
   "source": [
    "cd .."
   ]
  },
  {
   "cell_type": "code",
   "execution_count": 0,
   "metadata": {
    "colab": {},
    "colab_type": "code",
    "id": "L15STTOqq4Uw"
   },
   "outputs": [],
   "source": [
    "!wget -O outputs/checkpoints.zip https://1drv.ws/u/s!AjjUqiJZsj8whLNyoEh67Uu0LlxquA?e=dkOnhQ"
   ]
  },
  {
   "cell_type": "code",
   "execution_count": 0,
   "metadata": {
    "colab": {},
    "colab_type": "code",
    "id": "DX-MPQKSs4pA"
   },
   "outputs": [],
   "source": [
    "cd outputs"
   ]
  },
  {
   "cell_type": "code",
   "execution_count": 0,
   "metadata": {
    "colab": {},
    "colab_type": "code",
    "id": "Qz6mYZUEwF1d"
   },
   "outputs": [],
   "source": [
    "!unzip checkpoints.zip"
   ]
  },
  {
   "cell_type": "code",
   "execution_count": 0,
   "metadata": {
    "colab": {},
    "colab_type": "code",
    "id": "Zm_daNeKwfqQ"
   },
   "outputs": [],
   "source": [
    "cd .."
   ]
  },
  {
   "cell_type": "code",
   "execution_count": 0,
   "metadata": {
    "colab": {},
    "colab_type": "code",
    "id": "Waf-VocmwHlT"
   },
   "outputs": [],
   "source": [
    "!wget -O assets/samples.zip https://1drv.ws/u/s!AjjUqiJZsj8whLNz4BqnSgqrVwAXoQ?e=bC86db"
   ]
  },
  {
   "cell_type": "code",
   "execution_count": 0,
   "metadata": {
    "colab": {},
    "colab_type": "code",
    "id": "o4T4aonowc4h"
   },
   "outputs": [],
   "source": [
    "cd assets"
   ]
  },
  {
   "cell_type": "code",
   "execution_count": 0,
   "metadata": {
    "colab": {},
    "colab_type": "code",
    "id": "uVaYlUjBwnx1"
   },
   "outputs": [],
   "source": [
    "!unzip samples.zip"
   ]
  },
  {
   "cell_type": "code",
   "execution_count": 0,
   "metadata": {
    "colab": {},
    "colab_type": "code",
    "id": "ZsG341nMwpqD"
   },
   "outputs": [],
   "source": [
    "cd .."
   ]
  },
  {
   "cell_type": "code",
   "execution_count": 0,
   "metadata": {
    "colab": {},
    "colab_type": "code",
    "id": "UzEEAV_7w3xZ"
   },
   "outputs": [],
   "source": [
    "%%bash\n",
    "python run_imitator.py --gpu_ids 0 --model imitator --output_dir ./outputs/results/  \\\n",
    "    --src_path      ./assets/src_imgs/internet/men1_256.jpg    \\\n",
    "    --tgt_path      ./assets/samples/refs/iPER/024_8_2    \\\n",
    "    --bg_ks 7   --ft_ks 3 \\\n",
    "    --has_detector  --post_tune --front_warp \\\n",
    "    --save_res"
   ]
  },
  {
   "cell_type": "code",
   "execution_count": 0,
   "metadata": {
    "colab": {},
    "colab_type": "code",
    "id": "dCrFpImFss1p"
   },
   "outputs": [],
   "source": [
    "%%bash\n",
    "python run_swap.py --gpu_ids 0 --model imitator --output_dir ./outputs/results/  \\\n",
    "    --src_path      ./assets/src_imgs/imper_A_Pose/024_8_2_0000.jpg    \\\n",
    "    --tgt_path      ./assets/src_imgs/fashion_man/Sweatshirts_Hoodies-id_0000680701_4_full.jpg    \\\n",
    "    --bg_ks 13  --ft_ks 3 \\\n",
    "    --has_detector  --post_tune  --front_warp --swap_part body  \\\n",
    "    --save_res"
   ]
  },
  {
   "cell_type": "code",
   "execution_count": 0,
   "metadata": {
    "colab": {},
    "colab_type": "code",
    "id": "OEuNWk6Gt3sb"
   },
   "outputs": [],
   "source": [
    "%%bash\n",
    "python run_view.py --gpu_ids 0 --model viewer --output_dir ./outputs/results/  \\\n",
    "--src_path      ./assets/src_imgs/internet/women1_256.jpg    \\\n",
    "--bg_ks 13  --ft_ks 3 \\\n",
    "--has_detector  --post_tune --front_warp --bg_replace \\\n",
    "--save_res"
   ]
  },
  {
   "cell_type": "code",
   "execution_count": 0,
   "metadata": {
    "colab": {},
    "colab_type": "code",
    "id": "fjERmHmJ0I4L"
   },
   "outputs": [],
   "source": [
    "!ffmpeg -f image2 -i /content/impersonator/outputs/results/imgs/%*.jpg -c:v libx264 -pix_fmt yuv420p out.mp4 -y"
   ]
  },
  {
   "cell_type": "code",
   "execution_count": 0,
   "metadata": {
    "colab": {},
    "colab_type": "code",
    "id": "V4J6dde53ZIH"
   },
   "outputs": [],
   "source": [
    "!ffmpeg -f image2 -i /content/impersonator/outputs/results/imitators/gt_%04d.jpg -c:v libx264 -pix_fmt yuv420p out2.mp4 -y"
   ]
  },
  {
   "cell_type": "code",
   "execution_count": 0,
   "metadata": {
    "colab": {},
    "colab_type": "code",
    "id": "TpNIX-xg6mby"
   },
   "outputs": [],
   "source": [
    "!ffmpeg -f image2 -i /content/impersonator/outputs/results/imitators/pred_%04d.jpg -c:v libx264 -pix_fmt yuv420p out3.mp4 -y"
   ]
  },
  {
   "cell_type": "code",
   "execution_count": 0,
   "metadata": {
    "colab": {},
    "colab_type": "code",
    "id": "M1rIptSs7sW5"
   },
   "outputs": [],
   "source": [
    "!ffmpeg -i out2.mp4 -filter_complex \"[0:v] palettegen\" palette.png -y"
   ]
  },
  {
   "cell_type": "code",
   "execution_count": 0,
   "metadata": {
    "colab": {},
    "colab_type": "code",
    "id": "miT5Lh-K7ybB"
   },
   "outputs": [],
   "source": [
    "!ffmpeg -i out2.mp4 -i palette.png -filter_complex \"[0:v][1:v] paletteuse\" endresult.gif -y"
   ]
  },
  {
   "cell_type": "code",
   "execution_count": 0,
   "metadata": {
    "colab": {},
    "colab_type": "code",
    "id": "TmySGWrg76Ed"
   },
   "outputs": [],
   "source": [
    "!ffmpeg -i out3.mp4 -filter_complex \"[0:v] palettegen\" palette2.png -y"
   ]
  },
  {
   "cell_type": "code",
   "execution_count": 0,
   "metadata": {
    "colab": {},
    "colab_type": "code",
    "id": "vO4yh4XX8G8X"
   },
   "outputs": [],
   "source": [
    "!ffmpeg -i out3.mp4 -i palette2.png -filter_complex \"[0:v][1:v] paletteuse\" endresult2.gif -y"
   ]
  },
  {
   "cell_type": "code",
   "execution_count": 0,
   "metadata": {
    "colab": {},
    "colab_type": "code",
    "id": "uzBQa8K18LqX"
   },
   "outputs": [],
   "source": [
    "!ffmpeg -i endresult.gif -i endresult2.gif -filter_complex hstack outputstack2.gif -y"
   ]
  },
  {
   "cell_type": "code",
   "execution_count": 0,
   "metadata": {
    "colab": {},
    "colab_type": "code",
    "id": "GT5o6Dmq8WAw"
   },
   "outputs": [],
   "source": [
    "!ffmpeg -i outputstack2.gif -f mp4 -c:v libx264 -pix_fmt yuv420p combined.mp4"
   ]
  }
 ],
 "metadata": {
  "accelerator": "GPU",
  "colab": {
   "include_colab_link": true,
   "name": "impersonator.ipynb",
   "provenance": []
  },
  "kernelspec": {
   "display_name": "Python 3",
   "language": "python",
   "name": "python3"
  },
  "language_info": {
   "codemirror_mode": {
    "name": "ipython",
    "version": 3
   },
   "file_extension": ".py",
   "mimetype": "text/x-python",
   "name": "python",
   "nbconvert_exporter": "python",
   "pygments_lexer": "ipython3",
   "version": "3.7.4"
  }
 },
 "nbformat": 4,
 "nbformat_minor": 1
}
